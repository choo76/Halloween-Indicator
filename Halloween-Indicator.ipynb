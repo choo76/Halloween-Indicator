{
 "cells": [
  {
   "cell_type": "markdown",
   "metadata": {},
   "source": [
    "# Halloween Strategy\n",
    "[Use This 'Scary Indicator' To Trounce The U.S. Stock Market](https://seekingalpha.com/article/4118841-use-scary-indicator-trounce-u-s-stock-market)"
   ]
  },
  {
   "cell_type": "code",
   "execution_count": null,
   "metadata": {
    "collapsed": true
   },
   "outputs": [],
   "source": [
    "library(xts)\n",
    "library(zoo)\n",
    "library(TTR)\n",
    "library(dplyr)\n",
    "library(quantmod)\n",
    "setwd('/Users/jtan/Documents/Investment/Halloween-Indicator')\n",
    "\n",
    "output_table <- data.frame (\n",
    "    Date=character(),\n",
    "    Symbol=character(),\n",
    "    Return=numeric(),\n",
    "    Period=numeric(),\n",
    "    stringsAsFactors=FALSE\n",
    ")"
   ]
  },
  {
   "cell_type": "code",
   "execution_count": 3,
   "metadata": {},
   "outputs": [
    {
     "data": {
      "text/html": [
       "<ol class=list-inline>\n",
       "\t<li>'EEM'</li>\n",
       "\t<li>'EET'</li>\n",
       "</ol>\n"
      ],
      "text/latex": [
       "\\begin{enumerate*}\n",
       "\\item 'EEM'\n",
       "\\item 'EET'\n",
       "\\end{enumerate*}\n"
      ],
      "text/markdown": [
       "1. 'EEM'\n",
       "2. 'EET'\n",
       "\n",
       "\n"
      ],
      "text/plain": [
       "[1] \"EEM\" \"EET\""
      ]
     },
     "metadata": {},
     "output_type": "display_data"
    },
    {
     "name": "stdout",
     "output_type": "stream",
     "text": [
      "[1] \"EEM\"\n",
      "[1] \"EET\"\n"
     ]
    }
   ],
   "source": [
    "STOCK_LIST <- c('EEM','VWO','VEA','SPY','QQQ')\n",
    "START_DATE <- '2000-05-01' # Start from at least one year ago from end_date\n",
    "END_DATE <- '2017-05-01' # End on April (Nov 1 to May 1)\n",
    "\n",
    "# table initialization\n",
    "result_table <- output_table\n",
    "\n",
    "getSymbols(STOCK_LIST, from=START_DATE, to=END_DATE)\n",
    "\n",
    "for(symbol in STOCK_LIST) {\n",
    "    \n",
    "    cat('Processing', symbol,'\\n')\n",
    "    \n",
    "    x <- get(symbol)\n",
    "    x <- to.monthly(x, indexAt='lastof', drop.time=TRUE) \n",
    "    indexFormat(x) <- '%Y-%m-%d'\n",
    "    colnames(x) <- gsub(\"x\", symbol, colnames(x))\n",
    "    x <- x[,4]  # Drops all columns except close price\n",
    "    assign(symbol, x)\n",
    "    \n",
    "    test <- data.frame(Date = index(x), x, row.names=NULL)\n",
    "    test$mo <- as.numeric(format(test$Date, \"%m\"))\n",
    "    colnames(test)[2] <- 'Close'\n",
    "    test$Symbol <- symbol\n",
    "    \n",
    "    new_05to10 <- test %>% filter(mo==5|mo==10) %>% arrange(Date) %>% \n",
    "                    mutate(Return = (Close - lag(Close, default = Close[1])) / lag(Close, default = Close[1])) %>% \n",
    "                    filter(mo==10) #%>% select(-c(mo,Close)) \n",
    "    new_05to10$Period <- as.numeric(format(new_05to10$Date, \"%Y\"))\n",
    "    new_05to10 <- new_05to10[c('Date','Symbol','Return','Period')]\n",
    "    \n",
    "    new_11to04 <- test %>% filter(mo==4|mo==11) %>% arrange(Date) %>% \n",
    "                    mutate(Return = (Close - lag(Close, default = Close[1])) / lag(Close, default = Close[1])) %>% \n",
    "                    filter(mo==4) #%>% select(-c(mo,Close))     \n",
    "    new_11to04$Period <- as.numeric(format(new_11to04$Date, \"%Y\")) - 1\n",
    "    new_11to04 <- new_11to04[c('Date','Symbol','Return','Period')]\n",
    "    \n",
    "    y <- merge(new_05to10,new_11to04,by=c('Symbol','Period'))\n",
    "    result_table <- rbind(y, result_table)\n",
    "}\n"
   ]
  },
  {
   "cell_type": "code",
   "execution_count": null,
   "metadata": {
    "collapsed": true
   },
   "outputs": [],
   "source": [
    "write.table(result_table, file = 'Indicator_Comparison.csv', sep = \",\", col.names = TRUE, row.names = FALSE, quote = FALSE)"
   ]
  }
 ],
 "metadata": {
  "kernelspec": {
   "display_name": "R",
   "language": "R",
   "name": "ir"
  },
  "language_info": {
   "codemirror_mode": "r",
   "file_extension": ".r",
   "mimetype": "text/x-r-source",
   "name": "R",
   "pygments_lexer": "r",
   "version": "3.4.2"
  }
 },
 "nbformat": 4,
 "nbformat_minor": 2
}
